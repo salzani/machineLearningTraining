{
 "cells": [
  {
   "cell_type": "markdown",
   "metadata": {},
   "source": [
    "Standard SVC \n",
    "\n",
    "StandardScaler() is a scikit-learn data preprocessing class that helps normalize the scale of data, which is important for many machine learning algorithms. When applied to a dataset, StandardScaler() calculates the mean and standard deviation for each feature. It then normalizes the values by subtracting the mean and dividing by the standard deviation, resulting in standardized values. This ensures that the mean of the transformed features is zero and the standard deviation is one. Normalizing the data in this way allows machine learning algorithms to perform better, as they are less influenced by variations in the scale or distribution of the input data. StandardScaler() plays a crucial role in preparing data for machine learning models.\n"
   ]
  },
  {
   "cell_type": "code",
   "execution_count": 3,
   "metadata": {},
   "outputs": [
    {
     "data": {
      "text/html": [
       "<div>\n",
       "<style scoped>\n",
       "    .dataframe tbody tr th:only-of-type {\n",
       "        vertical-align: middle;\n",
       "    }\n",
       "\n",
       "    .dataframe tbody tr th {\n",
       "        vertical-align: top;\n",
       "    }\n",
       "\n",
       "    .dataframe thead th {\n",
       "        text-align: right;\n",
       "    }\n",
       "</style>\n",
       "<table border=\"1\" class=\"dataframe\">\n",
       "  <thead>\n",
       "    <tr style=\"text-align: right;\">\n",
       "      <th></th>\n",
       "      <th>nao_finalizado</th>\n",
       "      <th>horas_esperadas</th>\n",
       "      <th>preco</th>\n",
       "      <th>finalizado</th>\n",
       "    </tr>\n",
       "  </thead>\n",
       "  <tbody>\n",
       "    <tr>\n",
       "      <th>0</th>\n",
       "      <td>0</td>\n",
       "      <td>75.0</td>\n",
       "      <td>6985.0</td>\n",
       "      <td>1</td>\n",
       "    </tr>\n",
       "    <tr>\n",
       "      <th>2</th>\n",
       "      <td>0</td>\n",
       "      <td>87.0</td>\n",
       "      <td>14205.0</td>\n",
       "      <td>1</td>\n",
       "    </tr>\n",
       "    <tr>\n",
       "      <th>3</th>\n",
       "      <td>1</td>\n",
       "      <td>13.0</td>\n",
       "      <td>100.0</td>\n",
       "      <td>0</td>\n",
       "    </tr>\n",
       "    <tr>\n",
       "      <th>4</th>\n",
       "      <td>0</td>\n",
       "      <td>2.0</td>\n",
       "      <td>202.0</td>\n",
       "      <td>1</td>\n",
       "    </tr>\n",
       "    <tr>\n",
       "      <th>5</th>\n",
       "      <td>0</td>\n",
       "      <td>49.0</td>\n",
       "      <td>1096.0</td>\n",
       "      <td>1</td>\n",
       "    </tr>\n",
       "  </tbody>\n",
       "</table>\n",
       "</div>"
      ],
      "text/plain": [
       "   nao_finalizado  horas_esperadas    preco  finalizado\n",
       "0               0             75.0   6985.0           1\n",
       "2               0             87.0  14205.0           1\n",
       "3               1             13.0    100.0           0\n",
       "4               0              2.0    202.0           1\n",
       "5               0             49.0   1096.0           1"
      ]
     },
     "execution_count": 3,
     "metadata": {},
     "output_type": "execute_result"
    }
   ],
   "source": [
    "import pandas as pd\n",
    "import numpy as np\n",
    "import seaborn as sns\n",
    "import matplotlib.pyplot as plt\n",
    "\n",
    "from sklearn.model_selection import train_test_split\n",
    "from sklearn.svm import SVC\n",
    "from sklearn.metrics import accuracy_score\n",
    "from sklearn.preprocessing import StandardScaler\n",
    "\n",
    "df = pd.read_csv('data/projects.csv')\n",
    "\n",
    "df['finalizado'] = df['nao_finalizado'].map({1:0, 0:1})\n",
    "df = df.query('horas_esperadas > 0')\n",
    "\n",
    "df.head()"
   ]
  },
  {
   "cell_type": "code",
   "execution_count": 7,
   "metadata": {},
   "outputs": [
    {
     "name": "stdout",
     "output_type": "stream",
     "text": [
      "Accuracy: 67.78%\n"
     ]
    }
   ],
   "source": [
    "y = df['finalizado']\n",
    "\n",
    "x = df[['horas_esperadas', 'preco']]\n",
    "\n",
    "seed = 2043\n",
    "\n",
    "raw_treino_x, raw_teste_x, treino_y, teste_y = train_test_split(x,y, random_state=seed, stratify=y)\n",
    "\n",
    "scaler = StandardScaler()\n",
    "scaler.fit(raw_treino_x)\n",
    "\n",
    "treino_x = scaler.transform(raw_treino_x)\n",
    "teste_x = scaler.transform(raw_teste_x)\n",
    "\n",
    "\n",
    "model = SVC(gamma = 'auto')\n",
    "model.fit(treino_x,treino_y)\n",
    "\n",
    "prevision = model.predict(teste_x)\n",
    "\n",
    "accuracy = accuracy_score(teste_y, prevision) * 100\n",
    "\n",
    "print(f'Accuracy: {accuracy:.2f}%')"
   ]
  },
  {
   "cell_type": "code",
   "execution_count": 10,
   "metadata": {},
   "outputs": [
    {
     "name": "stdout",
     "output_type": "stream",
     "text": [
      "-1.7204367180164735 1.7375665606605448 -0.599129071525413 5.0256262997224495\n"
     ]
    },
    {
     "data": {
      "text/plain": [
       "<matplotlib.collections.PathCollection at 0x7e9c2f4d94b0>"
      ]
     },
     "execution_count": 10,
     "metadata": {},
     "output_type": "execute_result"
    },
    {
     "data": {
      "image/png": "[encoded data removed]",
      "text/plain": [
       "<Figure size 640x480 with 1 Axes>"
      ]
     },
     "metadata": {},
     "output_type": "display_data"
    }
   ],
   "source": [
    "data_col1 = teste_x[:,0]\n",
    "data_col2 = teste_x[:,1]\n",
    "\n",
    "min_x = data_col1.min()\n",
    "max_x = data_col1.max()\n",
    "\n",
    "min_y = data_col2.min()\n",
    "max_y = data_col2.max()\n",
    "\n",
    "print(min_x, max_x, min_y, max_y)\n",
    "\n",
    "pixels = 100\n",
    "\n",
    "\n",
    "x_axis = np.arange(min_x, max_x, (max_x - min_x) / pixels)\n",
    "y_axis = np.arange(min_y, max_y, (max_y - min_y) / pixels)\n",
    "\n",
    "\n",
    "xx, yy = np.meshgrid(x_axis, y_axis)\n",
    "\n",
    "points = np.c_[xx.ravel(), yy.ravel()]\n",
    "\n",
    "z = model.predict(points)\n",
    "\n",
    "z = np.array(z).reshape(xx.shape)\n",
    "\n",
    "plt.contourf(xx, yy, z)\n",
    "\n",
    "plt.scatter(data_col1, data_col2, s=1)"
   ]
  },
  {
   "cell_type": "markdown",
   "metadata": {},
   "source": [
    "# Aprendizados\n",
    "\n",
    "    Comparar a saída do modelo linear LinearSVC em relação ao modelo não linear SVC;\n",
    "    Aplicar o modelo SVC da scikit-learn para capturar relações não lineares;\n",
    "    Utilizar a reescalação de dados com StandardScaler para melhorar performance e acurácia do modelo;\n",
    "    Entender a importância da definição dos parâmetros de modelos de Machine Learning;\n",
    "    Analisar a saída do modelo SVC após o treinamento."
   ]
  }
 ],
 "metadata": {
  "kernelspec": {
   "display_name": "venv",
   "language": "python",
   "name": "python3"
  },
  "language_info": {
   "codemirror_mode": {
    "name": "ipython",
    "version": 3
   },
   "file_extension": ".py",
   "mimetype": "text/x-python",
   "name": "python",
   "nbconvert_exporter": "python",
   "pygments_lexer": "ipython3",
   "version": "3.10.12"
  }
 },
 "nbformat": 4,
 "nbformat_minor": 2
}
